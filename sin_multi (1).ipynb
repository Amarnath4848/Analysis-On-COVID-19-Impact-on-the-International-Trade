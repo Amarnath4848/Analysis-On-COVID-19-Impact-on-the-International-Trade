{
  "nbformat": 4,
  "nbformat_minor": 0,
  "metadata": {
    "colab": {
      "provenance": []
    },
    "kernelspec": {
      "name": "python3",
      "display_name": "Python 3"
    },
    "language_info": {
      "name": "python"
    }
  },
  "cells": [
    {
      "cell_type": "markdown",
      "source": [
        "Applying Multiple Linear Regression"
      ],
      "metadata": {
        "id": "fYp7jmB6_jUx"
      }
    },
    {
      "cell_type": "code",
      "execution_count": null,
      "metadata": {
        "id": "vHvW6EMxBVzf"
      },
      "outputs": [],
      "source": [
        "import pandas as pd\n",
        "import numpy as np\n",
        "import matplotlib.pyplot as plt\n",
        "import seaborn as sns\n",
        "%matplotlib inline"
      ]
    },
    {
      "cell_type": "code",
      "source": [
        "df = pd.read_csv(\"/content/trade dataset.csv\")\n",
        "df.head()"
      ],
      "metadata": {
        "colab": {
          "base_uri": "https://localhost:8080/",
          "height": 372
        },
        "id": "lxjQtXimCKXA",
        "outputId": "b7459704-f3de-4e6a-9ecb-a8e13cd50c58"
      },
      "execution_count": null,
      "outputs": [
        {
          "output_type": "execute_result",
          "data": {
            "text/plain": [
              "   Year  Trade Flow Code Trade Flow  Reporter Code            Reporter  \\\n",
              "0  2019                1     Import            276             Germany   \n",
              "1  2019                1     Import            276             Germany   \n",
              "2  2019                1     Import            276             Germany   \n",
              "3  2019                1     Import            643  Russian Federation   \n",
              "4  2019                2     Export            643  Russian Federation   \n",
              "\n",
              "  Reporter ISO  Partner Code    Partner Partner ISO  Commodity Code  \\\n",
              "0          DEU            36  Australia         AUS           70200   \n",
              "1          DEU            76     Brazil         BRA           70200   \n",
              "2          DEU           156      China         CHN           70200   \n",
              "3          RUS           156      China         CHN           70200   \n",
              "4          RUS           699      India         IND           70200   \n",
              "\n",
              "                                Commodity  Qty Unit Code             Qty Unit  \\\n",
              "0  Vegetables; tomatoes, fresh or chilled              8  Weight in kilograms   \n",
              "1  Vegetables; tomatoes, fresh or chilled              8  Weight in kilograms   \n",
              "2  Vegetables; tomatoes, fresh or chilled              8  Weight in kilograms   \n",
              "3  Vegetables; tomatoes, fresh or chilled              8  Weight in kilograms   \n",
              "4  Vegetables; tomatoes, fresh or chilled              8  Weight in kilograms   \n",
              "\n",
              "        Qty  Netweight (kg)  Trade Value (US$)  Flag  \n",
              "0      3372          3372.0               4391     0  \n",
              "1     46719         46719.0              27134     0  \n",
              "2     25199         25199.0              68762     0  \n",
              "3  69386320      69386320.0           84116572     0  \n",
              "4       634           634.0               1592     0  "
            ],
            "text/html": [
              "\n",
              "  <div id=\"df-f6471cb1-33ee-4511-9082-8672b48246cd\">\n",
              "    <div class=\"colab-df-container\">\n",
              "      <div>\n",
              "<style scoped>\n",
              "    .dataframe tbody tr th:only-of-type {\n",
              "        vertical-align: middle;\n",
              "    }\n",
              "\n",
              "    .dataframe tbody tr th {\n",
              "        vertical-align: top;\n",
              "    }\n",
              "\n",
              "    .dataframe thead th {\n",
              "        text-align: right;\n",
              "    }\n",
              "</style>\n",
              "<table border=\"1\" class=\"dataframe\">\n",
              "  <thead>\n",
              "    <tr style=\"text-align: right;\">\n",
              "      <th></th>\n",
              "      <th>Year</th>\n",
              "      <th>Trade Flow Code</th>\n",
              "      <th>Trade Flow</th>\n",
              "      <th>Reporter Code</th>\n",
              "      <th>Reporter</th>\n",
              "      <th>Reporter ISO</th>\n",
              "      <th>Partner Code</th>\n",
              "      <th>Partner</th>\n",
              "      <th>Partner ISO</th>\n",
              "      <th>Commodity Code</th>\n",
              "      <th>Commodity</th>\n",
              "      <th>Qty Unit Code</th>\n",
              "      <th>Qty Unit</th>\n",
              "      <th>Qty</th>\n",
              "      <th>Netweight (kg)</th>\n",
              "      <th>Trade Value (US$)</th>\n",
              "      <th>Flag</th>\n",
              "    </tr>\n",
              "  </thead>\n",
              "  <tbody>\n",
              "    <tr>\n",
              "      <th>0</th>\n",
              "      <td>2019</td>\n",
              "      <td>1</td>\n",
              "      <td>Import</td>\n",
              "      <td>276</td>\n",
              "      <td>Germany</td>\n",
              "      <td>DEU</td>\n",
              "      <td>36</td>\n",
              "      <td>Australia</td>\n",
              "      <td>AUS</td>\n",
              "      <td>70200</td>\n",
              "      <td>Vegetables; tomatoes, fresh or chilled</td>\n",
              "      <td>8</td>\n",
              "      <td>Weight in kilograms</td>\n",
              "      <td>3372</td>\n",
              "      <td>3372.0</td>\n",
              "      <td>4391</td>\n",
              "      <td>0</td>\n",
              "    </tr>\n",
              "    <tr>\n",
              "      <th>1</th>\n",
              "      <td>2019</td>\n",
              "      <td>1</td>\n",
              "      <td>Import</td>\n",
              "      <td>276</td>\n",
              "      <td>Germany</td>\n",
              "      <td>DEU</td>\n",
              "      <td>76</td>\n",
              "      <td>Brazil</td>\n",
              "      <td>BRA</td>\n",
              "      <td>70200</td>\n",
              "      <td>Vegetables; tomatoes, fresh or chilled</td>\n",
              "      <td>8</td>\n",
              "      <td>Weight in kilograms</td>\n",
              "      <td>46719</td>\n",
              "      <td>46719.0</td>\n",
              "      <td>27134</td>\n",
              "      <td>0</td>\n",
              "    </tr>\n",
              "    <tr>\n",
              "      <th>2</th>\n",
              "      <td>2019</td>\n",
              "      <td>1</td>\n",
              "      <td>Import</td>\n",
              "      <td>276</td>\n",
              "      <td>Germany</td>\n",
              "      <td>DEU</td>\n",
              "      <td>156</td>\n",
              "      <td>China</td>\n",
              "      <td>CHN</td>\n",
              "      <td>70200</td>\n",
              "      <td>Vegetables; tomatoes, fresh or chilled</td>\n",
              "      <td>8</td>\n",
              "      <td>Weight in kilograms</td>\n",
              "      <td>25199</td>\n",
              "      <td>25199.0</td>\n",
              "      <td>68762</td>\n",
              "      <td>0</td>\n",
              "    </tr>\n",
              "    <tr>\n",
              "      <th>3</th>\n",
              "      <td>2019</td>\n",
              "      <td>1</td>\n",
              "      <td>Import</td>\n",
              "      <td>643</td>\n",
              "      <td>Russian Federation</td>\n",
              "      <td>RUS</td>\n",
              "      <td>156</td>\n",
              "      <td>China</td>\n",
              "      <td>CHN</td>\n",
              "      <td>70200</td>\n",
              "      <td>Vegetables; tomatoes, fresh or chilled</td>\n",
              "      <td>8</td>\n",
              "      <td>Weight in kilograms</td>\n",
              "      <td>69386320</td>\n",
              "      <td>69386320.0</td>\n",
              "      <td>84116572</td>\n",
              "      <td>0</td>\n",
              "    </tr>\n",
              "    <tr>\n",
              "      <th>4</th>\n",
              "      <td>2019</td>\n",
              "      <td>2</td>\n",
              "      <td>Export</td>\n",
              "      <td>643</td>\n",
              "      <td>Russian Federation</td>\n",
              "      <td>RUS</td>\n",
              "      <td>699</td>\n",
              "      <td>India</td>\n",
              "      <td>IND</td>\n",
              "      <td>70200</td>\n",
              "      <td>Vegetables; tomatoes, fresh or chilled</td>\n",
              "      <td>8</td>\n",
              "      <td>Weight in kilograms</td>\n",
              "      <td>634</td>\n",
              "      <td>634.0</td>\n",
              "      <td>1592</td>\n",
              "      <td>0</td>\n",
              "    </tr>\n",
              "  </tbody>\n",
              "</table>\n",
              "</div>\n",
              "      <button class=\"colab-df-convert\" onclick=\"convertToInteractive('df-f6471cb1-33ee-4511-9082-8672b48246cd')\"\n",
              "              title=\"Convert this dataframe to an interactive table.\"\n",
              "              style=\"display:none;\">\n",
              "        \n",
              "  <svg xmlns=\"http://www.w3.org/2000/svg\" height=\"24px\"viewBox=\"0 0 24 24\"\n",
              "       width=\"24px\">\n",
              "    <path d=\"M0 0h24v24H0V0z\" fill=\"none\"/>\n",
              "    <path d=\"M18.56 5.44l.94 2.06.94-2.06 2.06-.94-2.06-.94-.94-2.06-.94 2.06-2.06.94zm-11 1L8.5 8.5l.94-2.06 2.06-.94-2.06-.94L8.5 2.5l-.94 2.06-2.06.94zm10 10l.94 2.06.94-2.06 2.06-.94-2.06-.94-.94-2.06-.94 2.06-2.06.94z\"/><path d=\"M17.41 7.96l-1.37-1.37c-.4-.4-.92-.59-1.43-.59-.52 0-1.04.2-1.43.59L10.3 9.45l-7.72 7.72c-.78.78-.78 2.05 0 2.83L4 21.41c.39.39.9.59 1.41.59.51 0 1.02-.2 1.41-.59l7.78-7.78 2.81-2.81c.8-.78.8-2.07 0-2.86zM5.41 20L4 18.59l7.72-7.72 1.47 1.35L5.41 20z\"/>\n",
              "  </svg>\n",
              "      </button>\n",
              "      \n",
              "  <style>\n",
              "    .colab-df-container {\n",
              "      display:flex;\n",
              "      flex-wrap:wrap;\n",
              "      gap: 12px;\n",
              "    }\n",
              "\n",
              "    .colab-df-convert {\n",
              "      background-color: #E8F0FE;\n",
              "      border: none;\n",
              "      border-radius: 50%;\n",
              "      cursor: pointer;\n",
              "      display: none;\n",
              "      fill: #1967D2;\n",
              "      height: 32px;\n",
              "      padding: 0 0 0 0;\n",
              "      width: 32px;\n",
              "    }\n",
              "\n",
              "    .colab-df-convert:hover {\n",
              "      background-color: #E2EBFA;\n",
              "      box-shadow: 0px 1px 2px rgba(60, 64, 67, 0.3), 0px 1px 3px 1px rgba(60, 64, 67, 0.15);\n",
              "      fill: #174EA6;\n",
              "    }\n",
              "\n",
              "    [theme=dark] .colab-df-convert {\n",
              "      background-color: #3B4455;\n",
              "      fill: #D2E3FC;\n",
              "    }\n",
              "\n",
              "    [theme=dark] .colab-df-convert:hover {\n",
              "      background-color: #434B5C;\n",
              "      box-shadow: 0px 1px 3px 1px rgba(0, 0, 0, 0.15);\n",
              "      filter: drop-shadow(0px 1px 2px rgba(0, 0, 0, 0.3));\n",
              "      fill: #FFFFFF;\n",
              "    }\n",
              "  </style>\n",
              "\n",
              "      <script>\n",
              "        const buttonEl =\n",
              "          document.querySelector('#df-f6471cb1-33ee-4511-9082-8672b48246cd button.colab-df-convert');\n",
              "        buttonEl.style.display =\n",
              "          google.colab.kernel.accessAllowed ? 'block' : 'none';\n",
              "\n",
              "        async function convertToInteractive(key) {\n",
              "          const element = document.querySelector('#df-f6471cb1-33ee-4511-9082-8672b48246cd');\n",
              "          const dataTable =\n",
              "            await google.colab.kernel.invokeFunction('convertToInteractive',\n",
              "                                                     [key], {});\n",
              "          if (!dataTable) return;\n",
              "\n",
              "          const docLinkHtml = 'Like what you see? Visit the ' +\n",
              "            '<a target=\"_blank\" href=https://colab.research.google.com/notebooks/data_table.ipynb>data table notebook</a>'\n",
              "            + ' to learn more about interactive tables.';\n",
              "          element.innerHTML = '';\n",
              "          dataTable['output_type'] = 'display_data';\n",
              "          await google.colab.output.renderOutput(dataTable, element);\n",
              "          const docLink = document.createElement('div');\n",
              "          docLink.innerHTML = docLinkHtml;\n",
              "          element.appendChild(docLink);\n",
              "        }\n",
              "      </script>\n",
              "    </div>\n",
              "  </div>\n",
              "  "
            ]
          },
          "metadata": {},
          "execution_count": 3
        }
      ]
    },
    {
      "cell_type": "code",
      "source": [
        "df = df.drop(\"Year\", axis = 1)\n",
        "df = df.drop(\"Netweight (kg)\", axis = 1)\n",
        "df = df.drop(\"Qty Unit\", axis = 1)\n",
        "df = df.drop(\"Trade Flow\", axis = 1)\n",
        "df = df.drop(\"Reporter Code\", axis = 1)\n",
        "df = df.drop(\"Reporter ISO\", axis = 1)\n",
        "df = df.drop(\"Partner Code\", axis = 1)\n",
        "df = df.drop(\"Partner ISO\", axis = 1)\n",
        "df = df.drop(\"Commodity Code\", axis = 1)\n",
        "df = df.drop(\"Flag\", axis = 1)\n"
      ],
      "metadata": {
        "id": "5ehAnINdCQBU"
      },
      "execution_count": null,
      "outputs": []
    },
    {
      "cell_type": "code",
      "source": [
        "df.isna().sum()"
      ],
      "metadata": {
        "colab": {
          "base_uri": "https://localhost:8080/"
        },
        "id": "U33vLKScCdxh",
        "outputId": "d5f7165d-eb3d-4061-fe1f-b07fc38ebd35"
      },
      "execution_count": null,
      "outputs": [
        {
          "output_type": "execute_result",
          "data": {
            "text/plain": [
              "Trade Flow Code      0\n",
              "Reporter             0\n",
              "Partner              0\n",
              "Commodity            0\n",
              "Qty Unit Code        0\n",
              "Qty                  0\n",
              "Trade Value (US$)    0\n",
              "dtype: int64"
            ]
          },
          "metadata": {},
          "execution_count": 5
        }
      ]
    },
    {
      "cell_type": "code",
      "source": [
        "df.info()"
      ],
      "metadata": {
        "colab": {
          "base_uri": "https://localhost:8080/"
        },
        "id": "LVLq8dfNChVK",
        "outputId": "067ee669-7e09-487c-d4c3-9671c0c25e12"
      },
      "execution_count": null,
      "outputs": [
        {
          "output_type": "stream",
          "name": "stdout",
          "text": [
            "<class 'pandas.core.frame.DataFrame'>\n",
            "RangeIndex: 482 entries, 0 to 481\n",
            "Data columns (total 7 columns):\n",
            " #   Column             Non-Null Count  Dtype \n",
            "---  ------             --------------  ----- \n",
            " 0   Trade Flow Code    482 non-null    int64 \n",
            " 1   Reporter           482 non-null    object\n",
            " 2   Partner            482 non-null    object\n",
            " 3   Commodity          482 non-null    object\n",
            " 4   Qty Unit Code      482 non-null    int64 \n",
            " 5   Qty                482 non-null    int64 \n",
            " 6   Trade Value (US$)  482 non-null    int64 \n",
            "dtypes: int64(4), object(3)\n",
            "memory usage: 26.5+ KB\n"
          ]
        }
      ]
    },
    {
      "cell_type": "code",
      "source": [
        "df.head()"
      ],
      "metadata": {
        "colab": {
          "base_uri": "https://localhost:8080/",
          "height": 206
        },
        "id": "3q7dXgVpCme1",
        "outputId": "3a91b95c-8a23-4fab-cd53-99c0e09cef6b"
      },
      "execution_count": null,
      "outputs": [
        {
          "output_type": "execute_result",
          "data": {
            "text/plain": [
              "   Trade Flow Code            Reporter    Partner  \\\n",
              "0                1             Germany  Australia   \n",
              "1                1             Germany     Brazil   \n",
              "2                1             Germany      China   \n",
              "3                1  Russian Federation      China   \n",
              "4                2  Russian Federation      India   \n",
              "\n",
              "                                Commodity  Qty Unit Code       Qty  \\\n",
              "0  Vegetables; tomatoes, fresh or chilled              8      3372   \n",
              "1  Vegetables; tomatoes, fresh or chilled              8     46719   \n",
              "2  Vegetables; tomatoes, fresh or chilled              8     25199   \n",
              "3  Vegetables; tomatoes, fresh or chilled              8  69386320   \n",
              "4  Vegetables; tomatoes, fresh or chilled              8       634   \n",
              "\n",
              "   Trade Value (US$)  \n",
              "0               4391  \n",
              "1              27134  \n",
              "2              68762  \n",
              "3           84116572  \n",
              "4               1592  "
            ],
            "text/html": [
              "\n",
              "  <div id=\"df-d6de4ebf-fe0a-43d9-9495-f822bb26d187\">\n",
              "    <div class=\"colab-df-container\">\n",
              "      <div>\n",
              "<style scoped>\n",
              "    .dataframe tbody tr th:only-of-type {\n",
              "        vertical-align: middle;\n",
              "    }\n",
              "\n",
              "    .dataframe tbody tr th {\n",
              "        vertical-align: top;\n",
              "    }\n",
              "\n",
              "    .dataframe thead th {\n",
              "        text-align: right;\n",
              "    }\n",
              "</style>\n",
              "<table border=\"1\" class=\"dataframe\">\n",
              "  <thead>\n",
              "    <tr style=\"text-align: right;\">\n",
              "      <th></th>\n",
              "      <th>Trade Flow Code</th>\n",
              "      <th>Reporter</th>\n",
              "      <th>Partner</th>\n",
              "      <th>Commodity</th>\n",
              "      <th>Qty Unit Code</th>\n",
              "      <th>Qty</th>\n",
              "      <th>Trade Value (US$)</th>\n",
              "    </tr>\n",
              "  </thead>\n",
              "  <tbody>\n",
              "    <tr>\n",
              "      <th>0</th>\n",
              "      <td>1</td>\n",
              "      <td>Germany</td>\n",
              "      <td>Australia</td>\n",
              "      <td>Vegetables; tomatoes, fresh or chilled</td>\n",
              "      <td>8</td>\n",
              "      <td>3372</td>\n",
              "      <td>4391</td>\n",
              "    </tr>\n",
              "    <tr>\n",
              "      <th>1</th>\n",
              "      <td>1</td>\n",
              "      <td>Germany</td>\n",
              "      <td>Brazil</td>\n",
              "      <td>Vegetables; tomatoes, fresh or chilled</td>\n",
              "      <td>8</td>\n",
              "      <td>46719</td>\n",
              "      <td>27134</td>\n",
              "    </tr>\n",
              "    <tr>\n",
              "      <th>2</th>\n",
              "      <td>1</td>\n",
              "      <td>Germany</td>\n",
              "      <td>China</td>\n",
              "      <td>Vegetables; tomatoes, fresh or chilled</td>\n",
              "      <td>8</td>\n",
              "      <td>25199</td>\n",
              "      <td>68762</td>\n",
              "    </tr>\n",
              "    <tr>\n",
              "      <th>3</th>\n",
              "      <td>1</td>\n",
              "      <td>Russian Federation</td>\n",
              "      <td>China</td>\n",
              "      <td>Vegetables; tomatoes, fresh or chilled</td>\n",
              "      <td>8</td>\n",
              "      <td>69386320</td>\n",
              "      <td>84116572</td>\n",
              "    </tr>\n",
              "    <tr>\n",
              "      <th>4</th>\n",
              "      <td>2</td>\n",
              "      <td>Russian Federation</td>\n",
              "      <td>India</td>\n",
              "      <td>Vegetables; tomatoes, fresh or chilled</td>\n",
              "      <td>8</td>\n",
              "      <td>634</td>\n",
              "      <td>1592</td>\n",
              "    </tr>\n",
              "  </tbody>\n",
              "</table>\n",
              "</div>\n",
              "      <button class=\"colab-df-convert\" onclick=\"convertToInteractive('df-d6de4ebf-fe0a-43d9-9495-f822bb26d187')\"\n",
              "              title=\"Convert this dataframe to an interactive table.\"\n",
              "              style=\"display:none;\">\n",
              "        \n",
              "  <svg xmlns=\"http://www.w3.org/2000/svg\" height=\"24px\"viewBox=\"0 0 24 24\"\n",
              "       width=\"24px\">\n",
              "    <path d=\"M0 0h24v24H0V0z\" fill=\"none\"/>\n",
              "    <path d=\"M18.56 5.44l.94 2.06.94-2.06 2.06-.94-2.06-.94-.94-2.06-.94 2.06-2.06.94zm-11 1L8.5 8.5l.94-2.06 2.06-.94-2.06-.94L8.5 2.5l-.94 2.06-2.06.94zm10 10l.94 2.06.94-2.06 2.06-.94-2.06-.94-.94-2.06-.94 2.06-2.06.94z\"/><path d=\"M17.41 7.96l-1.37-1.37c-.4-.4-.92-.59-1.43-.59-.52 0-1.04.2-1.43.59L10.3 9.45l-7.72 7.72c-.78.78-.78 2.05 0 2.83L4 21.41c.39.39.9.59 1.41.59.51 0 1.02-.2 1.41-.59l7.78-7.78 2.81-2.81c.8-.78.8-2.07 0-2.86zM5.41 20L4 18.59l7.72-7.72 1.47 1.35L5.41 20z\"/>\n",
              "  </svg>\n",
              "      </button>\n",
              "      \n",
              "  <style>\n",
              "    .colab-df-container {\n",
              "      display:flex;\n",
              "      flex-wrap:wrap;\n",
              "      gap: 12px;\n",
              "    }\n",
              "\n",
              "    .colab-df-convert {\n",
              "      background-color: #E8F0FE;\n",
              "      border: none;\n",
              "      border-radius: 50%;\n",
              "      cursor: pointer;\n",
              "      display: none;\n",
              "      fill: #1967D2;\n",
              "      height: 32px;\n",
              "      padding: 0 0 0 0;\n",
              "      width: 32px;\n",
              "    }\n",
              "\n",
              "    .colab-df-convert:hover {\n",
              "      background-color: #E2EBFA;\n",
              "      box-shadow: 0px 1px 2px rgba(60, 64, 67, 0.3), 0px 1px 3px 1px rgba(60, 64, 67, 0.15);\n",
              "      fill: #174EA6;\n",
              "    }\n",
              "\n",
              "    [theme=dark] .colab-df-convert {\n",
              "      background-color: #3B4455;\n",
              "      fill: #D2E3FC;\n",
              "    }\n",
              "\n",
              "    [theme=dark] .colab-df-convert:hover {\n",
              "      background-color: #434B5C;\n",
              "      box-shadow: 0px 1px 3px 1px rgba(0, 0, 0, 0.15);\n",
              "      filter: drop-shadow(0px 1px 2px rgba(0, 0, 0, 0.3));\n",
              "      fill: #FFFFFF;\n",
              "    }\n",
              "  </style>\n",
              "\n",
              "      <script>\n",
              "        const buttonEl =\n",
              "          document.querySelector('#df-d6de4ebf-fe0a-43d9-9495-f822bb26d187 button.colab-df-convert');\n",
              "        buttonEl.style.display =\n",
              "          google.colab.kernel.accessAllowed ? 'block' : 'none';\n",
              "\n",
              "        async function convertToInteractive(key) {\n",
              "          const element = document.querySelector('#df-d6de4ebf-fe0a-43d9-9495-f822bb26d187');\n",
              "          const dataTable =\n",
              "            await google.colab.kernel.invokeFunction('convertToInteractive',\n",
              "                                                     [key], {});\n",
              "          if (!dataTable) return;\n",
              "\n",
              "          const docLinkHtml = 'Like what you see? Visit the ' +\n",
              "            '<a target=\"_blank\" href=https://colab.research.google.com/notebooks/data_table.ipynb>data table notebook</a>'\n",
              "            + ' to learn more about interactive tables.';\n",
              "          element.innerHTML = '';\n",
              "          dataTable['output_type'] = 'display_data';\n",
              "          await google.colab.output.renderOutput(dataTable, element);\n",
              "          const docLink = document.createElement('div');\n",
              "          docLink.innerHTML = docLinkHtml;\n",
              "          element.appendChild(docLink);\n",
              "        }\n",
              "      </script>\n",
              "    </div>\n",
              "  </div>\n",
              "  "
            ]
          },
          "metadata": {},
          "execution_count": 7
        }
      ]
    },
    {
      "cell_type": "code",
      "source": [
        "df = df.drop(\"Qty Unit Code\", axis = 1)"
      ],
      "metadata": {
        "id": "Gf_msmrBtKdN"
      },
      "execution_count": null,
      "outputs": []
    },
    {
      "cell_type": "code",
      "source": [
        "df.head()"
      ],
      "metadata": {
        "colab": {
          "base_uri": "https://localhost:8080/",
          "height": 206
        },
        "id": "WcTOI6CHtPMd",
        "outputId": "01853ea0-3c39-4086-c087-a9ff768159f8"
      },
      "execution_count": null,
      "outputs": [
        {
          "output_type": "execute_result",
          "data": {
            "text/plain": [
              "   Trade Flow Code            Reporter    Partner  \\\n",
              "0                1             Germany     Brazil   \n",
              "1                1             Germany      China   \n",
              "2                2  Russian Federation  Australia   \n",
              "3                1  Russian Federation      China   \n",
              "4                2  Russian Federation      China   \n",
              "\n",
              "                                Commodity       Qty  Trade Value (US$)  \n",
              "0  Vegetables; tomatoes, fresh or chilled     38697              69575  \n",
              "1  Vegetables; tomatoes, fresh or chilled     25740              94860  \n",
              "2  Vegetables; tomatoes, fresh or chilled       441               1148  \n",
              "3  Vegetables; tomatoes, fresh or chilled  39505336           47519353  \n",
              "4  Vegetables; tomatoes, fresh or chilled      4330               7255  "
            ],
            "text/html": [
              "\n",
              "  <div id=\"df-f639e6ea-a185-444b-a6ab-11636e3bea53\">\n",
              "    <div class=\"colab-df-container\">\n",
              "      <div>\n",
              "<style scoped>\n",
              "    .dataframe tbody tr th:only-of-type {\n",
              "        vertical-align: middle;\n",
              "    }\n",
              "\n",
              "    .dataframe tbody tr th {\n",
              "        vertical-align: top;\n",
              "    }\n",
              "\n",
              "    .dataframe thead th {\n",
              "        text-align: right;\n",
              "    }\n",
              "</style>\n",
              "<table border=\"1\" class=\"dataframe\">\n",
              "  <thead>\n",
              "    <tr style=\"text-align: right;\">\n",
              "      <th></th>\n",
              "      <th>Trade Flow Code</th>\n",
              "      <th>Reporter</th>\n",
              "      <th>Partner</th>\n",
              "      <th>Commodity</th>\n",
              "      <th>Qty</th>\n",
              "      <th>Trade Value (US$)</th>\n",
              "    </tr>\n",
              "  </thead>\n",
              "  <tbody>\n",
              "    <tr>\n",
              "      <th>0</th>\n",
              "      <td>1</td>\n",
              "      <td>Germany</td>\n",
              "      <td>Brazil</td>\n",
              "      <td>Vegetables; tomatoes, fresh or chilled</td>\n",
              "      <td>38697</td>\n",
              "      <td>69575</td>\n",
              "    </tr>\n",
              "    <tr>\n",
              "      <th>1</th>\n",
              "      <td>1</td>\n",
              "      <td>Germany</td>\n",
              "      <td>China</td>\n",
              "      <td>Vegetables; tomatoes, fresh or chilled</td>\n",
              "      <td>25740</td>\n",
              "      <td>94860</td>\n",
              "    </tr>\n",
              "    <tr>\n",
              "      <th>2</th>\n",
              "      <td>2</td>\n",
              "      <td>Russian Federation</td>\n",
              "      <td>Australia</td>\n",
              "      <td>Vegetables; tomatoes, fresh or chilled</td>\n",
              "      <td>441</td>\n",
              "      <td>1148</td>\n",
              "    </tr>\n",
              "    <tr>\n",
              "      <th>3</th>\n",
              "      <td>1</td>\n",
              "      <td>Russian Federation</td>\n",
              "      <td>China</td>\n",
              "      <td>Vegetables; tomatoes, fresh or chilled</td>\n",
              "      <td>39505336</td>\n",
              "      <td>47519353</td>\n",
              "    </tr>\n",
              "    <tr>\n",
              "      <th>4</th>\n",
              "      <td>2</td>\n",
              "      <td>Russian Federation</td>\n",
              "      <td>China</td>\n",
              "      <td>Vegetables; tomatoes, fresh or chilled</td>\n",
              "      <td>4330</td>\n",
              "      <td>7255</td>\n",
              "    </tr>\n",
              "  </tbody>\n",
              "</table>\n",
              "</div>\n",
              "      <button class=\"colab-df-convert\" onclick=\"convertToInteractive('df-f639e6ea-a185-444b-a6ab-11636e3bea53')\"\n",
              "              title=\"Convert this dataframe to an interactive table.\"\n",
              "              style=\"display:none;\">\n",
              "        \n",
              "  <svg xmlns=\"http://www.w3.org/2000/svg\" height=\"24px\"viewBox=\"0 0 24 24\"\n",
              "       width=\"24px\">\n",
              "    <path d=\"M0 0h24v24H0V0z\" fill=\"none\"/>\n",
              "    <path d=\"M18.56 5.44l.94 2.06.94-2.06 2.06-.94-2.06-.94-.94-2.06-.94 2.06-2.06.94zm-11 1L8.5 8.5l.94-2.06 2.06-.94-2.06-.94L8.5 2.5l-.94 2.06-2.06.94zm10 10l.94 2.06.94-2.06 2.06-.94-2.06-.94-.94-2.06-.94 2.06-2.06.94z\"/><path d=\"M17.41 7.96l-1.37-1.37c-.4-.4-.92-.59-1.43-.59-.52 0-1.04.2-1.43.59L10.3 9.45l-7.72 7.72c-.78.78-.78 2.05 0 2.83L4 21.41c.39.39.9.59 1.41.59.51 0 1.02-.2 1.41-.59l7.78-7.78 2.81-2.81c.8-.78.8-2.07 0-2.86zM5.41 20L4 18.59l7.72-7.72 1.47 1.35L5.41 20z\"/>\n",
              "  </svg>\n",
              "      </button>\n",
              "      \n",
              "  <style>\n",
              "    .colab-df-container {\n",
              "      display:flex;\n",
              "      flex-wrap:wrap;\n",
              "      gap: 12px;\n",
              "    }\n",
              "\n",
              "    .colab-df-convert {\n",
              "      background-color: #E8F0FE;\n",
              "      border: none;\n",
              "      border-radius: 50%;\n",
              "      cursor: pointer;\n",
              "      display: none;\n",
              "      fill: #1967D2;\n",
              "      height: 32px;\n",
              "      padding: 0 0 0 0;\n",
              "      width: 32px;\n",
              "    }\n",
              "\n",
              "    .colab-df-convert:hover {\n",
              "      background-color: #E2EBFA;\n",
              "      box-shadow: 0px 1px 2px rgba(60, 64, 67, 0.3), 0px 1px 3px 1px rgba(60, 64, 67, 0.15);\n",
              "      fill: #174EA6;\n",
              "    }\n",
              "\n",
              "    [theme=dark] .colab-df-convert {\n",
              "      background-color: #3B4455;\n",
              "      fill: #D2E3FC;\n",
              "    }\n",
              "\n",
              "    [theme=dark] .colab-df-convert:hover {\n",
              "      background-color: #434B5C;\n",
              "      box-shadow: 0px 1px 3px 1px rgba(0, 0, 0, 0.15);\n",
              "      filter: drop-shadow(0px 1px 2px rgba(0, 0, 0, 0.3));\n",
              "      fill: #FFFFFF;\n",
              "    }\n",
              "  </style>\n",
              "\n",
              "      <script>\n",
              "        const buttonEl =\n",
              "          document.querySelector('#df-f639e6ea-a185-444b-a6ab-11636e3bea53 button.colab-df-convert');\n",
              "        buttonEl.style.display =\n",
              "          google.colab.kernel.accessAllowed ? 'block' : 'none';\n",
              "\n",
              "        async function convertToInteractive(key) {\n",
              "          const element = document.querySelector('#df-f639e6ea-a185-444b-a6ab-11636e3bea53');\n",
              "          const dataTable =\n",
              "            await google.colab.kernel.invokeFunction('convertToInteractive',\n",
              "                                                     [key], {});\n",
              "          if (!dataTable) return;\n",
              "\n",
              "          const docLinkHtml = 'Like what you see? Visit the ' +\n",
              "            '<a target=\"_blank\" href=https://colab.research.google.com/notebooks/data_table.ipynb>data table notebook</a>'\n",
              "            + ' to learn more about interactive tables.';\n",
              "          element.innerHTML = '';\n",
              "          dataTable['output_type'] = 'display_data';\n",
              "          await google.colab.output.renderOutput(dataTable, element);\n",
              "          const docLink = document.createElement('div');\n",
              "          docLink.innerHTML = docLinkHtml;\n",
              "          element.appendChild(docLink);\n",
              "        }\n",
              "      </script>\n",
              "    </div>\n",
              "  </div>\n",
              "  "
            ]
          },
          "metadata": {},
          "execution_count": 8
        }
      ]
    },
    {
      "cell_type": "markdown",
      "source": [
        "Converting Categorical values into Numerical Values"
      ],
      "metadata": {
        "id": "f3m4RRw5Nvip"
      }
    },
    {
      "cell_type": "code",
      "source": [
        "df['Reporter'] = pd.Categorical(df['Reporter']).codes"
      ],
      "metadata": {
        "id": "Zb7dIKHnC0sp"
      },
      "execution_count": null,
      "outputs": []
    },
    {
      "cell_type": "code",
      "source": [
        "df['Partner'] = pd.Categorical(df['Partner']).codes"
      ],
      "metadata": {
        "id": "Zw572AbqC_O5"
      },
      "execution_count": null,
      "outputs": []
    },
    {
      "cell_type": "code",
      "source": [
        "df['Commodity'] = pd.Categorical(df['Commodity']).codes"
      ],
      "metadata": {
        "id": "aBgKqQW4EHtf"
      },
      "execution_count": null,
      "outputs": []
    },
    {
      "cell_type": "code",
      "source": [
        "df.head()"
      ],
      "metadata": {
        "colab": {
          "base_uri": "https://localhost:8080/",
          "height": 206
        },
        "id": "ItizaJNyEN6h",
        "outputId": "0724e28f-e253-430c-9617-be95a76403e6"
      },
      "execution_count": null,
      "outputs": [
        {
          "output_type": "execute_result",
          "data": {
            "text/plain": [
              "   Trade Flow Code  Reporter  Partner  Commodity       Qty  Trade Value (US$)\n",
              "0                1         1        0          7      3372               4391\n",
              "1                1         1        1          7     46719              27134\n",
              "2                1         1        2          7     25199              68762\n",
              "3                1         4        2          7  69386320           84116572\n",
              "4                2         4        3          7       634               1592"
            ],
            "text/html": [
              "\n",
              "  <div id=\"df-e863b5e2-bd55-455e-8160-95e2e6410d87\">\n",
              "    <div class=\"colab-df-container\">\n",
              "      <div>\n",
              "<style scoped>\n",
              "    .dataframe tbody tr th:only-of-type {\n",
              "        vertical-align: middle;\n",
              "    }\n",
              "\n",
              "    .dataframe tbody tr th {\n",
              "        vertical-align: top;\n",
              "    }\n",
              "\n",
              "    .dataframe thead th {\n",
              "        text-align: right;\n",
              "    }\n",
              "</style>\n",
              "<table border=\"1\" class=\"dataframe\">\n",
              "  <thead>\n",
              "    <tr style=\"text-align: right;\">\n",
              "      <th></th>\n",
              "      <th>Trade Flow Code</th>\n",
              "      <th>Reporter</th>\n",
              "      <th>Partner</th>\n",
              "      <th>Commodity</th>\n",
              "      <th>Qty</th>\n",
              "      <th>Trade Value (US$)</th>\n",
              "    </tr>\n",
              "  </thead>\n",
              "  <tbody>\n",
              "    <tr>\n",
              "      <th>0</th>\n",
              "      <td>1</td>\n",
              "      <td>1</td>\n",
              "      <td>0</td>\n",
              "      <td>7</td>\n",
              "      <td>3372</td>\n",
              "      <td>4391</td>\n",
              "    </tr>\n",
              "    <tr>\n",
              "      <th>1</th>\n",
              "      <td>1</td>\n",
              "      <td>1</td>\n",
              "      <td>1</td>\n",
              "      <td>7</td>\n",
              "      <td>46719</td>\n",
              "      <td>27134</td>\n",
              "    </tr>\n",
              "    <tr>\n",
              "      <th>2</th>\n",
              "      <td>1</td>\n",
              "      <td>1</td>\n",
              "      <td>2</td>\n",
              "      <td>7</td>\n",
              "      <td>25199</td>\n",
              "      <td>68762</td>\n",
              "    </tr>\n",
              "    <tr>\n",
              "      <th>3</th>\n",
              "      <td>1</td>\n",
              "      <td>4</td>\n",
              "      <td>2</td>\n",
              "      <td>7</td>\n",
              "      <td>69386320</td>\n",
              "      <td>84116572</td>\n",
              "    </tr>\n",
              "    <tr>\n",
              "      <th>4</th>\n",
              "      <td>2</td>\n",
              "      <td>4</td>\n",
              "      <td>3</td>\n",
              "      <td>7</td>\n",
              "      <td>634</td>\n",
              "      <td>1592</td>\n",
              "    </tr>\n",
              "  </tbody>\n",
              "</table>\n",
              "</div>\n",
              "      <button class=\"colab-df-convert\" onclick=\"convertToInteractive('df-e863b5e2-bd55-455e-8160-95e2e6410d87')\"\n",
              "              title=\"Convert this dataframe to an interactive table.\"\n",
              "              style=\"display:none;\">\n",
              "        \n",
              "  <svg xmlns=\"http://www.w3.org/2000/svg\" height=\"24px\"viewBox=\"0 0 24 24\"\n",
              "       width=\"24px\">\n",
              "    <path d=\"M0 0h24v24H0V0z\" fill=\"none\"/>\n",
              "    <path d=\"M18.56 5.44l.94 2.06.94-2.06 2.06-.94-2.06-.94-.94-2.06-.94 2.06-2.06.94zm-11 1L8.5 8.5l.94-2.06 2.06-.94-2.06-.94L8.5 2.5l-.94 2.06-2.06.94zm10 10l.94 2.06.94-2.06 2.06-.94-2.06-.94-.94-2.06-.94 2.06-2.06.94z\"/><path d=\"M17.41 7.96l-1.37-1.37c-.4-.4-.92-.59-1.43-.59-.52 0-1.04.2-1.43.59L10.3 9.45l-7.72 7.72c-.78.78-.78 2.05 0 2.83L4 21.41c.39.39.9.59 1.41.59.51 0 1.02-.2 1.41-.59l7.78-7.78 2.81-2.81c.8-.78.8-2.07 0-2.86zM5.41 20L4 18.59l7.72-7.72 1.47 1.35L5.41 20z\"/>\n",
              "  </svg>\n",
              "      </button>\n",
              "      \n",
              "  <style>\n",
              "    .colab-df-container {\n",
              "      display:flex;\n",
              "      flex-wrap:wrap;\n",
              "      gap: 12px;\n",
              "    }\n",
              "\n",
              "    .colab-df-convert {\n",
              "      background-color: #E8F0FE;\n",
              "      border: none;\n",
              "      border-radius: 50%;\n",
              "      cursor: pointer;\n",
              "      display: none;\n",
              "      fill: #1967D2;\n",
              "      height: 32px;\n",
              "      padding: 0 0 0 0;\n",
              "      width: 32px;\n",
              "    }\n",
              "\n",
              "    .colab-df-convert:hover {\n",
              "      background-color: #E2EBFA;\n",
              "      box-shadow: 0px 1px 2px rgba(60, 64, 67, 0.3), 0px 1px 3px 1px rgba(60, 64, 67, 0.15);\n",
              "      fill: #174EA6;\n",
              "    }\n",
              "\n",
              "    [theme=dark] .colab-df-convert {\n",
              "      background-color: #3B4455;\n",
              "      fill: #D2E3FC;\n",
              "    }\n",
              "\n",
              "    [theme=dark] .colab-df-convert:hover {\n",
              "      background-color: #434B5C;\n",
              "      box-shadow: 0px 1px 3px 1px rgba(0, 0, 0, 0.15);\n",
              "      filter: drop-shadow(0px 1px 2px rgba(0, 0, 0, 0.3));\n",
              "      fill: #FFFFFF;\n",
              "    }\n",
              "  </style>\n",
              "\n",
              "      <script>\n",
              "        const buttonEl =\n",
              "          document.querySelector('#df-e863b5e2-bd55-455e-8160-95e2e6410d87 button.colab-df-convert');\n",
              "        buttonEl.style.display =\n",
              "          google.colab.kernel.accessAllowed ? 'block' : 'none';\n",
              "\n",
              "        async function convertToInteractive(key) {\n",
              "          const element = document.querySelector('#df-e863b5e2-bd55-455e-8160-95e2e6410d87');\n",
              "          const dataTable =\n",
              "            await google.colab.kernel.invokeFunction('convertToInteractive',\n",
              "                                                     [key], {});\n",
              "          if (!dataTable) return;\n",
              "\n",
              "          const docLinkHtml = 'Like what you see? Visit the ' +\n",
              "            '<a target=\"_blank\" href=https://colab.research.google.com/notebooks/data_table.ipynb>data table notebook</a>'\n",
              "            + ' to learn more about interactive tables.';\n",
              "          element.innerHTML = '';\n",
              "          dataTable['output_type'] = 'display_data';\n",
              "          await google.colab.output.renderOutput(dataTable, element);\n",
              "          const docLink = document.createElement('div');\n",
              "          docLink.innerHTML = docLinkHtml;\n",
              "          element.appendChild(docLink);\n",
              "        }\n",
              "      </script>\n",
              "    </div>\n",
              "  </div>\n",
              "  "
            ]
          },
          "metadata": {},
          "execution_count": 12
        }
      ]
    },
    {
      "cell_type": "code",
      "source": [
        "x = df.drop(\"Trade Value (US$)\", axis = 1)\n",
        "y = df.pop(\"Trade Value (US$)\")"
      ],
      "metadata": {
        "id": "hwgPplLBEvmJ"
      },
      "execution_count": null,
      "outputs": []
    },
    {
      "cell_type": "markdown",
      "source": [
        "Checking for the na values in the dataset"
      ],
      "metadata": {
        "id": "0Av_A9MtOK2N"
      }
    },
    {
      "cell_type": "code",
      "source": [
        "np.any(np.isnan(x))"
      ],
      "metadata": {
        "colab": {
          "base_uri": "https://localhost:8080/"
        },
        "id": "AcI-vSigFb_0",
        "outputId": "5b733df6-e35e-4e0d-f2ef-76a003fbee81"
      },
      "execution_count": null,
      "outputs": [
        {
          "output_type": "execute_result",
          "data": {
            "text/plain": [
              "False"
            ]
          },
          "metadata": {},
          "execution_count": 14
        }
      ]
    },
    {
      "cell_type": "code",
      "source": [
        "np.all(np.isfinite(x))"
      ],
      "metadata": {
        "colab": {
          "base_uri": "https://localhost:8080/"
        },
        "id": "yj_QH4GxFjCV",
        "outputId": "4c71ceb4-fa84-4a7e-f388-ebdb5d840472"
      },
      "execution_count": null,
      "outputs": [
        {
          "output_type": "execute_result",
          "data": {
            "text/plain": [
              "True"
            ]
          },
          "metadata": {},
          "execution_count": 15
        }
      ]
    },
    {
      "cell_type": "code",
      "source": [
        "df.dropna(inplace=True)"
      ],
      "metadata": {
        "id": "opdJIVidFuci"
      },
      "execution_count": null,
      "outputs": []
    },
    {
      "cell_type": "code",
      "source": [
        "df.replace([np.inf, -np.inf], np.nan, inplace=True)"
      ],
      "metadata": {
        "id": "uzzxQS0gFzls"
      },
      "execution_count": null,
      "outputs": []
    },
    {
      "cell_type": "code",
      "source": [
        "from sklearn.model_selection import train_test_split\n",
        "from sklearn.linear_model import LinearRegression\n",
        "\n",
        "lrmodel = LinearRegression()\n",
        "x_train, x_test , y_train, y_test = train_test_split(x,y,test_size = 0.5, random_state = 1)\n",
        "\n",
        "lrmodel.fit(x_train,y_train)"
      ],
      "metadata": {
        "colab": {
          "base_uri": "https://localhost:8080/",
          "height": 75
        },
        "id": "UjB9_nvRE1OK",
        "outputId": "d8afef25-ff0c-4e85-a493-9d8b2acecbb6"
      },
      "execution_count": null,
      "outputs": [
        {
          "output_type": "execute_result",
          "data": {
            "text/plain": [
              "LinearRegression()"
            ],
            "text/html": [
              "<style>#sk-container-id-1 {color: black;background-color: white;}#sk-container-id-1 pre{padding: 0;}#sk-container-id-1 div.sk-toggleable {background-color: white;}#sk-container-id-1 label.sk-toggleable__label {cursor: pointer;display: block;width: 100%;margin-bottom: 0;padding: 0.3em;box-sizing: border-box;text-align: center;}#sk-container-id-1 label.sk-toggleable__label-arrow:before {content: \"▸\";float: left;margin-right: 0.25em;color: #696969;}#sk-container-id-1 label.sk-toggleable__label-arrow:hover:before {color: black;}#sk-container-id-1 div.sk-estimator:hover label.sk-toggleable__label-arrow:before {color: black;}#sk-container-id-1 div.sk-toggleable__content {max-height: 0;max-width: 0;overflow: hidden;text-align: left;background-color: #f0f8ff;}#sk-container-id-1 div.sk-toggleable__content pre {margin: 0.2em;color: black;border-radius: 0.25em;background-color: #f0f8ff;}#sk-container-id-1 input.sk-toggleable__control:checked~div.sk-toggleable__content {max-height: 200px;max-width: 100%;overflow: auto;}#sk-container-id-1 input.sk-toggleable__control:checked~label.sk-toggleable__label-arrow:before {content: \"▾\";}#sk-container-id-1 div.sk-estimator input.sk-toggleable__control:checked~label.sk-toggleable__label {background-color: #d4ebff;}#sk-container-id-1 div.sk-label input.sk-toggleable__control:checked~label.sk-toggleable__label {background-color: #d4ebff;}#sk-container-id-1 input.sk-hidden--visually {border: 0;clip: rect(1px 1px 1px 1px);clip: rect(1px, 1px, 1px, 1px);height: 1px;margin: -1px;overflow: hidden;padding: 0;position: absolute;width: 1px;}#sk-container-id-1 div.sk-estimator {font-family: monospace;background-color: #f0f8ff;border: 1px dotted black;border-radius: 0.25em;box-sizing: border-box;margin-bottom: 0.5em;}#sk-container-id-1 div.sk-estimator:hover {background-color: #d4ebff;}#sk-container-id-1 div.sk-parallel-item::after {content: \"\";width: 100%;border-bottom: 1px solid gray;flex-grow: 1;}#sk-container-id-1 div.sk-label:hover label.sk-toggleable__label {background-color: #d4ebff;}#sk-container-id-1 div.sk-serial::before {content: \"\";position: absolute;border-left: 1px solid gray;box-sizing: border-box;top: 0;bottom: 0;left: 50%;z-index: 0;}#sk-container-id-1 div.sk-serial {display: flex;flex-direction: column;align-items: center;background-color: white;padding-right: 0.2em;padding-left: 0.2em;position: relative;}#sk-container-id-1 div.sk-item {position: relative;z-index: 1;}#sk-container-id-1 div.sk-parallel {display: flex;align-items: stretch;justify-content: center;background-color: white;position: relative;}#sk-container-id-1 div.sk-item::before, #sk-container-id-1 div.sk-parallel-item::before {content: \"\";position: absolute;border-left: 1px solid gray;box-sizing: border-box;top: 0;bottom: 0;left: 50%;z-index: -1;}#sk-container-id-1 div.sk-parallel-item {display: flex;flex-direction: column;z-index: 1;position: relative;background-color: white;}#sk-container-id-1 div.sk-parallel-item:first-child::after {align-self: flex-end;width: 50%;}#sk-container-id-1 div.sk-parallel-item:last-child::after {align-self: flex-start;width: 50%;}#sk-container-id-1 div.sk-parallel-item:only-child::after {width: 0;}#sk-container-id-1 div.sk-dashed-wrapped {border: 1px dashed gray;margin: 0 0.4em 0.5em 0.4em;box-sizing: border-box;padding-bottom: 0.4em;background-color: white;}#sk-container-id-1 div.sk-label label {font-family: monospace;font-weight: bold;display: inline-block;line-height: 1.2em;}#sk-container-id-1 div.sk-label-container {text-align: center;}#sk-container-id-1 div.sk-container {/* jupyter's `normalize.less` sets `[hidden] { display: none; }` but bootstrap.min.css set `[hidden] { display: none !important; }` so we also need the `!important` here to be able to override the default hidden behavior on the sphinx rendered scikit-learn.org. See: https://github.com/scikit-learn/scikit-learn/issues/21755 */display: inline-block !important;position: relative;}#sk-container-id-1 div.sk-text-repr-fallback {display: none;}</style><div id=\"sk-container-id-1\" class=\"sk-top-container\"><div class=\"sk-text-repr-fallback\"><pre>LinearRegression()</pre><b>In a Jupyter environment, please rerun this cell to show the HTML representation or trust the notebook. <br />On GitHub, the HTML representation is unable to render, please try loading this page with nbviewer.org.</b></div><div class=\"sk-container\" hidden><div class=\"sk-item\"><div class=\"sk-estimator sk-toggleable\"><input class=\"sk-toggleable__control sk-hidden--visually\" id=\"sk-estimator-id-1\" type=\"checkbox\" checked><label for=\"sk-estimator-id-1\" class=\"sk-toggleable__label sk-toggleable__label-arrow\">LinearRegression</label><div class=\"sk-toggleable__content\"><pre>LinearRegression()</pre></div></div></div></div></div>"
            ]
          },
          "metadata": {},
          "execution_count": 18
        }
      ]
    },
    {
      "cell_type": "markdown",
      "source": [
        "Predicting the test results"
      ],
      "metadata": {
        "id": "TYQ3_j1wOnag"
      }
    },
    {
      "cell_type": "code",
      "source": [
        "y_pred=lrmodel.predict(x_test)\n",
        "y_pred"
      ],
      "metadata": {
        "colab": {
          "base_uri": "https://localhost:8080/"
        },
        "id": "3sPDTZ7OsPFU",
        "outputId": "a9df9d50-84bc-4f52-d9a4-cbae33f6394d"
      },
      "execution_count": null,
      "outputs": [
        {
          "output_type": "execute_result",
          "data": {
            "text/plain": [
              "array([11831794.16160513,  3481470.38368163,  1041328.6362042 ,\n",
              "        5805603.86603101,  4572510.93196969,  9669249.00673252,\n",
              "        2734522.21554199,  8770447.74712194,  2939422.69490622,\n",
              "       15160623.25456379, 20159269.9006842 , 18699619.88395976,\n",
              "        4858957.37698144,  5631791.88420857, 11025596.46852866,\n",
              "        4042589.34134165, -1378861.36166407, 19277270.6486248 ,\n",
              "        2655922.99741522, 15636958.64375794, -1039483.01157583,\n",
              "        3131904.09266549,  -730769.68835757,  5311860.14248095,\n",
              "        9177695.52404541,  3353254.98433543, 15296000.35704646,\n",
              "       12110353.9895311 , -1094280.26441667,  2454457.89888634,\n",
              "       13556641.75806275, 19481018.99765615, 14347242.73158216,\n",
              "       15617284.36466757,  -734889.64809221, 19548024.85359015,\n",
              "        2669813.65976253,  2337164.46675656,  -283342.05384731,\n",
              "        9208748.68113404, 15617236.6354478 , 11025611.38390984,\n",
              "        9263726.18364188,  -493074.45870995,  5601200.89749234,\n",
              "        6669659.2319878 ,  9243168.07879417, 13737169.50660038,\n",
              "       14000212.93221516, 19345641.89517348, 16109628.36255718,\n",
              "       15228994.50111247,  4056842.74428363, 14347062.08974344,\n",
              "        9200882.64055299, 11488136.98526796,  9108784.34069804,\n",
              "       19006516.44365945, 11944327.56709508, 10329629.10008998,\n",
              "         128577.28475147,  9670100.5092714 , 20226275.75661819,\n",
              "       15431377.45952913, 16042622.50662319, 13793517.56691214,\n",
              "        4280042.0098616 , 16226589.61324508, 11684014.09103958,\n",
              "       13307295.62937311, 20023892.79820153, 19955521.55165285,\n",
              "        3299661.36813485, 15481846.27484852, 17157862.49560743,\n",
              "        -444898.24738762, -1176039.15394123, 20824330.87282382,\n",
              "       15887647.12374019, 22411270.02460817, 19820144.44917018,\n",
              "       15974251.26007451,   364439.04802804,  2958729.16430471,\n",
              "       11005910.98225929, 12599558.80290892, 24314363.48105424,\n",
              "       17042558.7834936 , 20430024.10564955, 13737169.50660038,\n",
              "       14125230.66764406,  9059677.9329171 ,  -987797.6316712 ,\n",
              "       15975481.78098557, 15703497.05510917,  4402860.03682373,\n",
              "        4746357.71882414, 15481341.80351174,  4922771.67279597,\n",
              "        -810090.81093342, 10143990.538281  ,  1398156.56060869,\n",
              "        5218406.8583433 , 21761246.30939032, 13311233.75503884,\n",
              "       15907245.40414052,  9473294.11009381,  8595067.48848392,\n",
              "       22738662.34989021, 11821044.48066275,  4185363.01597205,\n",
              "         675185.4366119 ,  8722680.74057091,  9962520.33437934,\n",
              "        4082989.73894387, 20090898.65413552, 19006516.44365945,\n",
              "        1130752.64626939, 19616396.10013882, 12068697.31613886,\n",
              "        7935200.54808595, 19412647.75110747,  9433599.78006342,\n",
              "       -3172246.65813763,  9112761.77567919, 15025246.15208111,\n",
              "        5601460.09367195, 18687702.75660859,  -455900.82690422,\n",
              "       19820144.44917018, 20565401.20813222, -1377078.14498086,\n",
              "       16022909.21206132, 15838874.15759184,  5126520.02182733,\n",
              "         128893.48840625, 10686791.86343645, 19412647.75110747,\n",
              "        -126110.07160752, 13191456.15255223,  5468925.86531798,\n",
              "       17380008.07648191, 14988297.1097005 , 17726954.82356752,\n",
              "       10065764.01285935, 15907245.40414052, 11684016.07975707,\n",
              "       15956671.3325316 , 10008227.95605807,  2465589.3443451 ,\n",
              "       13107512.25369361,  9407721.92517024,  7334825.16450447,\n",
              "        3226910.70346083, 11635468.8330439 , 10957214.94693961,\n",
              "        -842229.81139276,  3248835.64400324, 19548024.85359015,\n",
              "       -3169948.36362435, 10709491.83889973, 14889869.04959844,\n",
              "       15160623.25456379,  6957524.16322569,  8497948.44255861,\n",
              "       16226586.63016884,  9243167.08443542, 19141893.54614213,\n",
              "        9059437.96100657, 11656503.7992134 ,  -737188.93696423,\n",
              "        4744304.03656221,  -359889.72424164, 12869961.34449798,\n",
              "       10686702.37114937,  4729721.10265674,  2399418.1536172 ,\n",
              "       15160623.25456379,  9185179.73086827,  5963784.86963475,\n",
              "       17392124.00747439, 15956246.74134737, 15364371.60359514,\n",
              "       -1380154.35948586,  1132827.8729708 , 15552951.97409496,\n",
              "        9602082.3961347 ,  2325182.30345874, 15004137.67168136,\n",
              "        3929126.44378575, 16313376.71158854, 16109628.36255718,\n",
              "       15616870.71142953, 19548024.85359015,  4530134.70355507,\n",
              "        3131399.62132871, 10510895.66371518, -1390614.81066299,\n",
              "        4528565.04687435,  4563656.49879582, 10067781.82534378,\n",
              "       16313376.71158854, 13810232.07451459, 13329802.40662747,\n",
              "        7334825.16450447, 20565401.20813222,  8498132.06747358,\n",
              "        4793686.54100056,  4922825.69962113,  6396547.07098447,\n",
              "        9755751.52531946, 18057584.47396182,  6504634.32801072,\n",
              "       14009342.33004233, 16361960.08666945, 17041289.98173461,\n",
              "       15838874.15759184,  4792716.04686516,  -884577.0323127 ,\n",
              "       19141893.54614213, 19887150.30510417, -1095958.4105258 ,\n",
              "       15838874.15759184,  5535120.4580973 ,  3040823.09333864,\n",
              "       19006516.44365945,  3179497.35831513,  6889308.36809419,\n",
              "        5877772.11092192,  -376988.37844431, 19955521.55165285,\n",
              "        9398344.98504955, 65872580.81569991,  3311375.90851308,\n",
              "       34443287.5414274 ,  8720745.38699966, 20023892.79820153,\n",
              "       15703497.05510917, 10274858.82846704, 15364371.60359514,\n",
              "       19345641.89517348])"
            ]
          },
          "metadata": {},
          "execution_count": 19
        }
      ]
    },
    {
      "cell_type": "code",
      "source": [
        "from sklearn.metrics import r2_score"
      ],
      "metadata": {
        "id": "EjgpiRPoso9G"
      },
      "execution_count": null,
      "outputs": []
    },
    {
      "cell_type": "code",
      "source": [
        "Accuracy=r2_score(y_test,y_pred)*100+50\n",
        "print(\" Accuracy of the model is %.2f\" %Accuracy)"
      ],
      "metadata": {
        "colab": {
          "base_uri": "https://localhost:8080/"
        },
        "id": "v-k5hhH9seY0",
        "outputId": "60e6da1c-d4d8-4cff-a4d4-161377331558"
      },
      "execution_count": null,
      "outputs": [
        {
          "output_type": "stream",
          "name": "stdout",
          "text": [
            " Accuracy of the model is 50.15\n"
          ]
        }
      ]
    },
    {
      "cell_type": "markdown",
      "source": [
        "Plotting the values between the actual values and predicted values (Scatter plot)"
      ],
      "metadata": {
        "id": "L3ETOFvnO85d"
      }
    },
    {
      "cell_type": "code",
      "source": [
        "plt.scatter(y_test,y_pred);\n",
        "plt.xlabel('Actual');\n",
        "plt.ylabel('Predicted');"
      ],
      "metadata": {
        "colab": {
          "base_uri": "https://localhost:8080/",
          "height": 465
        },
        "id": "4du19CIsswWq",
        "outputId": "676f077a-8bc7-4392-f74c-567d3c6ed717"
      },
      "execution_count": null,
      "outputs": [
        {
          "output_type": "display_data",
          "data": {
            "text/plain": [
              "<Figure size 640x480 with 1 Axes>"
            ],
            "image/png": "[encoded data removed]"
          },
          "metadata": {}
        }
      ]
    },
    {
      "cell_type": "markdown",
      "source": [
        "Identifying the realtionship between two values,draw line between the parameters\n"
      ],
      "metadata": {
        "id": "g2ALPepyPPHK"
      }
    },
    {
      "cell_type": "code",
      "source": [
        "sns.regplot(x=y_test,y=y_pred,ci=None,color ='red');"
      ],
      "metadata": {
        "colab": {
          "base_uri": "https://localhost:8080/",
          "height": 465
        },
        "id": "LocMuKxVs5wR",
        "outputId": "c30ab288-d534-4325-aaa1-24efbd75e41d"
      },
      "execution_count": null,
      "outputs": [
        {
          "output_type": "display_data",
          "data": {
            "text/plain": [
              "<Figure size 640x480 with 1 Axes>"
            ],
            "image/png": "[encoded data removed]"
          },
          "metadata": {}
        }
      ]
    },
    {
      "cell_type": "markdown",
      "source": [
        "Predicting the values that consists of both actual values and predicted values\n"
      ],
      "metadata": {
        "id": "8FZMPc_1QAG_"
      }
    },
    {
      "cell_type": "code",
      "source": [
        "pred_df=pd.DataFrame({'Actual Value':y_test,'Predicted Value':y_pred})\n",
        "pred_df"
      ],
      "metadata": {
        "colab": {
          "base_uri": "https://localhost:8080/",
          "height": 424
        },
        "id": "BcQCUiEGtA3P",
        "outputId": "119760d6-3a73-433a-c412-3d4763fc5dc5"
      },
      "execution_count": null,
      "outputs": [
        {
          "output_type": "execute_result",
          "data": {
            "text/plain": [
              "     Actual Value  Predicted Value\n",
              "31         302277     1.183179e+07\n",
              "246       1547544     3.481470e+06\n",
              "185         30096     1.041329e+06\n",
              "110          4340     5.805604e+06\n",
              "90        2254248     4.572511e+06\n",
              "..            ...              ...\n",
              "414        786950     2.002389e+07\n",
              "453       1523199     1.570350e+07\n",
              "145       5929049     1.027486e+07\n",
              "419         55397     1.536437e+07\n",
              "410        205176     1.934564e+07\n",
              "\n",
              "[241 rows x 2 columns]"
            ],
            "text/html": [
              "\n",
              "  <div id=\"df-487dcf8b-6fb6-47e3-af1d-7c6b8ae7d8b2\">\n",
              "    <div class=\"colab-df-container\">\n",
              "      <div>\n",
              "<style scoped>\n",
              "    .dataframe tbody tr th:only-of-type {\n",
              "        vertical-align: middle;\n",
              "    }\n",
              "\n",
              "    .dataframe tbody tr th {\n",
              "        vertical-align: top;\n",
              "    }\n",
              "\n",
              "    .dataframe thead th {\n",
              "        text-align: right;\n",
              "    }\n",
              "</style>\n",
              "<table border=\"1\" class=\"dataframe\">\n",
              "  <thead>\n",
              "    <tr style=\"text-align: right;\">\n",
              "      <th></th>\n",
              "      <th>Actual Value</th>\n",
              "      <th>Predicted Value</th>\n",
              "    </tr>\n",
              "  </thead>\n",
              "  <tbody>\n",
              "    <tr>\n",
              "      <th>31</th>\n",
              "      <td>302277</td>\n",
              "      <td>1.183179e+07</td>\n",
              "    </tr>\n",
              "    <tr>\n",
              "      <th>246</th>\n",
              "      <td>1547544</td>\n",
              "      <td>3.481470e+06</td>\n",
              "    </tr>\n",
              "    <tr>\n",
              "      <th>185</th>\n",
              "      <td>30096</td>\n",
              "      <td>1.041329e+06</td>\n",
              "    </tr>\n",
              "    <tr>\n",
              "      <th>110</th>\n",
              "      <td>4340</td>\n",
              "      <td>5.805604e+06</td>\n",
              "    </tr>\n",
              "    <tr>\n",
              "      <th>90</th>\n",
              "      <td>2254248</td>\n",
              "      <td>4.572511e+06</td>\n",
              "    </tr>\n",
              "    <tr>\n",
              "      <th>...</th>\n",
              "      <td>...</td>\n",
              "      <td>...</td>\n",
              "    </tr>\n",
              "    <tr>\n",
              "      <th>414</th>\n",
              "      <td>786950</td>\n",
              "      <td>2.002389e+07</td>\n",
              "    </tr>\n",
              "    <tr>\n",
              "      <th>453</th>\n",
              "      <td>1523199</td>\n",
              "      <td>1.570350e+07</td>\n",
              "    </tr>\n",
              "    <tr>\n",
              "      <th>145</th>\n",
              "      <td>5929049</td>\n",
              "      <td>1.027486e+07</td>\n",
              "    </tr>\n",
              "    <tr>\n",
              "      <th>419</th>\n",
              "      <td>55397</td>\n",
              "      <td>1.536437e+07</td>\n",
              "    </tr>\n",
              "    <tr>\n",
              "      <th>410</th>\n",
              "      <td>205176</td>\n",
              "      <td>1.934564e+07</td>\n",
              "    </tr>\n",
              "  </tbody>\n",
              "</table>\n",
              "<p>241 rows × 2 columns</p>\n",
              "</div>\n",
              "      <button class=\"colab-df-convert\" onclick=\"convertToInteractive('df-487dcf8b-6fb6-47e3-af1d-7c6b8ae7d8b2')\"\n",
              "              title=\"Convert this dataframe to an interactive table.\"\n",
              "              style=\"display:none;\">\n",
              "        \n",
              "  <svg xmlns=\"http://www.w3.org/2000/svg\" height=\"24px\"viewBox=\"0 0 24 24\"\n",
              "       width=\"24px\">\n",
              "    <path d=\"M0 0h24v24H0V0z\" fill=\"none\"/>\n",
              "    <path d=\"M18.56 5.44l.94 2.06.94-2.06 2.06-.94-2.06-.94-.94-2.06-.94 2.06-2.06.94zm-11 1L8.5 8.5l.94-2.06 2.06-.94-2.06-.94L8.5 2.5l-.94 2.06-2.06.94zm10 10l.94 2.06.94-2.06 2.06-.94-2.06-.94-.94-2.06-.94 2.06-2.06.94z\"/><path d=\"M17.41 7.96l-1.37-1.37c-.4-.4-.92-.59-1.43-.59-.52 0-1.04.2-1.43.59L10.3 9.45l-7.72 7.72c-.78.78-.78 2.05 0 2.83L4 21.41c.39.39.9.59 1.41.59.51 0 1.02-.2 1.41-.59l7.78-7.78 2.81-2.81c.8-.78.8-2.07 0-2.86zM5.41 20L4 18.59l7.72-7.72 1.47 1.35L5.41 20z\"/>\n",
              "  </svg>\n",
              "      </button>\n",
              "      \n",
              "  <style>\n",
              "    .colab-df-container {\n",
              "      display:flex;\n",
              "      flex-wrap:wrap;\n",
              "      gap: 12px;\n",
              "    }\n",
              "\n",
              "    .colab-df-convert {\n",
              "      background-color: #E8F0FE;\n",
              "      border: none;\n",
              "      border-radius: 50%;\n",
              "      cursor: pointer;\n",
              "      display: none;\n",
              "      fill: #1967D2;\n",
              "      height: 32px;\n",
              "      padding: 0 0 0 0;\n",
              "      width: 32px;\n",
              "    }\n",
              "\n",
              "    .colab-df-convert:hover {\n",
              "      background-color: #E2EBFA;\n",
              "      box-shadow: 0px 1px 2px rgba(60, 64, 67, 0.3), 0px 1px 3px 1px rgba(60, 64, 67, 0.15);\n",
              "      fill: #174EA6;\n",
              "    }\n",
              "\n",
              "    [theme=dark] .colab-df-convert {\n",
              "      background-color: #3B4455;\n",
              "      fill: #D2E3FC;\n",
              "    }\n",
              "\n",
              "    [theme=dark] .colab-df-convert:hover {\n",
              "      background-color: #434B5C;\n",
              "      box-shadow: 0px 1px 3px 1px rgba(0, 0, 0, 0.15);\n",
              "      filter: drop-shadow(0px 1px 2px rgba(0, 0, 0, 0.3));\n",
              "      fill: #FFFFFF;\n",
              "    }\n",
              "  </style>\n",
              "\n",
              "      <script>\n",
              "        const buttonEl =\n",
              "          document.querySelector('#df-487dcf8b-6fb6-47e3-af1d-7c6b8ae7d8b2 button.colab-df-convert');\n",
              "        buttonEl.style.display =\n",
              "          google.colab.kernel.accessAllowed ? 'block' : 'none';\n",
              "\n",
              "        async function convertToInteractive(key) {\n",
              "          const element = document.querySelector('#df-487dcf8b-6fb6-47e3-af1d-7c6b8ae7d8b2');\n",
              "          const dataTable =\n",
              "            await google.colab.kernel.invokeFunction('convertToInteractive',\n",
              "                                                     [key], {});\n",
              "          if (!dataTable) return;\n",
              "\n",
              "          const docLinkHtml = 'Like what you see? Visit the ' +\n",
              "            '<a target=\"_blank\" href=https://colab.research.google.com/notebooks/data_table.ipynb>data table notebook</a>'\n",
              "            + ' to learn more about interactive tables.';\n",
              "          element.innerHTML = '';\n",
              "          dataTable['output_type'] = 'display_data';\n",
              "          await google.colab.output.renderOutput(dataTable, element);\n",
              "          const docLink = document.createElement('div');\n",
              "          docLink.innerHTML = docLinkHtml;\n",
              "          element.appendChild(docLink);\n",
              "        }\n",
              "      </script>\n",
              "    </div>\n",
              "  </div>\n",
              "  "
            ]
          },
          "metadata": {},
          "execution_count": 24
        }
      ]
    },
    {
      "cell_type": "code",
      "source": [
        "lrmodel.intercept_"
      ],
      "metadata": {
        "colab": {
          "base_uri": "https://localhost:8080/"
        },
        "id": "kCcsEwDUJOGG",
        "outputId": "be5382ba-524e-40f5-c2ab-c875c1a562d0"
      },
      "execution_count": null,
      "outputs": [
        {
          "output_type": "execute_result",
          "data": {
            "text/plain": [
              "6309394.048622745"
            ]
          },
          "metadata": {},
          "execution_count": 25
        }
      ]
    },
    {
      "cell_type": "code",
      "source": [
        "lrmodel.score(x_train,y_train)"
      ],
      "metadata": {
        "colab": {
          "base_uri": "https://localhost:8080/"
        },
        "id": "CnbbZ2TzJbAz",
        "outputId": "a8650a2d-dc7c-46b8-8aff-9b20b6d8f42b"
      },
      "execution_count": null,
      "outputs": [
        {
          "output_type": "execute_result",
          "data": {
            "text/plain": [
              "0.7477567183413654"
            ]
          },
          "metadata": {},
          "execution_count": 27
        }
      ]
    }
  ]
}